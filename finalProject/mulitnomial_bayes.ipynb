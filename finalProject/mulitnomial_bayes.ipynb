{
 "cells": [
  {
   "cell_type": "code",
   "execution_count": 1,
   "metadata": {},
   "outputs": [],
   "source": [
    "# from nltk import sent_tokenize , word_tokenize\n",
    "# from nltk.corpus import stopwords\n",
    "\n",
    "# f = open('lyrics.txt','r',encoding=\"utf-8\")\n",
    "\n",
    "# stop_words = set(stopwords.words(\"english\"))\n",
    "# # print(stop_words)\n",
    "\n",
    "\n",
    "# for line in f:\n",
    "#     line = line.lower()\n",
    "#     words = word_tokenize(line)\n",
    "#     filtered_words = [w for w in words if w not in stop_words]\n",
    "# #     print(filtered_words)"
   ]
  },
  {
   "cell_type": "code",
   "execution_count": 2,
   "metadata": {},
   "outputs": [],
   "source": [
    "import pandas as pd\n",
    "\n",
    "data = pd.read_csv('./lyrics.txt',sep='\\t',names=['artist','lyrics'])\n"
   ]
  },
  {
   "cell_type": "code",
   "execution_count": 3,
   "metadata": {},
   "outputs": [
    {
     "name": "stdout",
     "output_type": "stream",
     "text": [
      "{'Flatbush Zombies': 0, 'Jadakiss': 1, 'Kendrick Lamar': 2, 'Lupe Fiasco': 3, 'Noname': 4, 'Young Thug': 5}\n"
     ]
    }
   ],
   "source": [
    "from sklearn import preprocessing\n",
    "\n",
    "labeler = preprocessing.LabelEncoder()\n",
    "labeler.fit(data['artist'])\n",
    "\n",
    "label_map = dict(zip(labeler.classes_,labeler.transform(labeler.classes_)))\n",
    "print(label_map)"
   ]
  },
  {
   "cell_type": "code",
   "execution_count": 4,
   "metadata": {},
   "outputs": [],
   "source": [
    "data['artist'] = data['artist'].apply(lambda x: label_map[x])"
   ]
  },
  {
   "cell_type": "code",
   "execution_count": 5,
   "metadata": {},
   "outputs": [],
   "source": [
    "from sklearn.model_selection import train_test_split\n",
    "\n",
    "x_train,x_test,y_train,y_test = train_test_split(data['lyrics'],data['artist'],test_size=0.4)\n",
    "\n"
   ]
  },
  {
   "cell_type": "code",
   "execution_count": 25,
   "metadata": {},
   "outputs": [],
   "source": [
    "from sklearn.feature_extraction.text import CountVectorizer,TfidfVectorizer\n",
    "import numpy as np\n",
    "\n",
    "#add feature selection from sklearn.feature_selection\n",
    "\n",
    "vec = CountVectorizer()\n",
    "# vec = TfidfVectorizer(min_df = 0.1)\n",
    "\n",
    "x_train_v = vec.fit_transform(x_train)\n",
    "x_test_v = vec.transform(x_test)\n",
    "\n",
    "y_train_v= np.int32(np.array(y_train))\n",
    "y_test_v = np.int32(np.array(y_test))"
   ]
  },
  {
   "cell_type": "code",
   "execution_count": 26,
   "metadata": {},
   "outputs": [
    {
     "name": "stdout",
     "output_type": "stream",
     "text": [
      "(69, 855)\n"
     ]
    }
   ],
   "source": [
    "from sklearn.feature_selection import VarianceThreshold\n",
    "\n",
    "vt = VarianceThreshold(threshold=0.1)\n",
    "x_train_v = vt.fit_transform(x_train_v)\n",
    "x_test_v = vt.transform(x_test_v)\n",
    "\n",
    "print(x_train_v.shape)"
   ]
  },
  {
   "cell_type": "code",
   "execution_count": 27,
   "metadata": {},
   "outputs": [
    {
     "data": {
      "text/plain": [
       "MultinomialNB(alpha=1.0, class_prior=None, fit_prior=True)"
      ]
     },
     "execution_count": 27,
     "metadata": {},
     "output_type": "execute_result"
    }
   ],
   "source": [
    "from sklearn.naive_bayes import MultinomialNB\n",
    "\n",
    "mnb = MultinomialNB()\n",
    "\n",
    "mnb.fit(x_train_v,y_train_v)"
   ]
  },
  {
   "cell_type": "code",
   "execution_count": 28,
   "metadata": {},
   "outputs": [
    {
     "data": {
      "text/plain": [
       "0.5957446808510638"
      ]
     },
     "execution_count": 28,
     "metadata": {},
     "output_type": "execute_result"
    }
   ],
   "source": [
    "from sklearn.metrics import accuracy_score\n",
    "\n",
    "#predict one instance, see 1st 2nd and 3rd place predictions\n",
    "y_pred = mnb.predict(x_test_v)\n",
    "\n",
    "accuracy_score(y_test,y_pred)"
   ]
  },
  {
   "cell_type": "code",
   "execution_count": null,
   "metadata": {},
   "outputs": [],
   "source": []
  }
 ],
 "metadata": {
  "kernelspec": {
   "display_name": "Python 3",
   "language": "python",
   "name": "python3"
  },
  "language_info": {
   "codemirror_mode": {
    "name": "ipython",
    "version": 3
   },
   "file_extension": ".py",
   "mimetype": "text/x-python",
   "name": "python",
   "nbconvert_exporter": "python",
   "pygments_lexer": "ipython3",
   "version": "3.6.4"
  }
 },
 "nbformat": 4,
 "nbformat_minor": 2
}
